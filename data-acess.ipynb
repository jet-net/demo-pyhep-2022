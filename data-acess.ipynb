{
 "cells": [
  {
   "cell_type": "markdown",
   "metadata": {},
   "source": [
    "# Data access\n",
    "\n",
    "This tutorial demonstrates how to use the JetNet library to load, access, inspect, and prepare the JetNet dataset for machine learning."
   ]
  },
  {
   "cell_type": "markdown",
   "metadata": {},
   "source": [
    "## Data loading\n",
    "\n",
    "We'll use the `jetnet.datasets.JetNet.getData` function to download and directly access the dataset.\n",
    "\n",
    "First, we can check which particle and jet features are available in this dataset:"
   ]
  },
  {
   "cell_type": "code",
   "execution_count": 1,
   "metadata": {},
   "outputs": [
    {
     "name": "stdout",
     "output_type": "stream",
     "text": [
      "Particle features: ['etarel', 'phirel', 'ptrel', 'mask']\n",
      "Jet features: ['type', 'pt', 'eta', 'mass', 'num_particles']\n"
     ]
    }
   ],
   "source": [
    "from jetnet.datasets import JetNet\n",
    "print(f\"Particle features: {JetNet.all_particle_features}\")\n",
    "print(f\"Jet features: {JetNet.all_jet_features}\")"
   ]
  },
  {
   "cell_type": "markdown",
   "metadata": {},
   "source": [
    "Next, let's load the data:"
   ]
  },
  {
   "cell_type": "code",
   "execution_count": 2,
   "metadata": {},
   "outputs": [],
   "source": [
    "from jetnet.datasets import JetNet\n",
    "\n",
    "data_args = {\n",
    "    \"jet_type\": [\"g\", \"q\"],  # gluon and quark jets\n",
    "    \"data_dir\": \"../datasets/jetnet\",\n",
    "    # choosing only the kinematic features here\n",
    "    \"particle_features\": [\"etarel\", \"phirel\", \"ptrel\"],\n",
    "    \"num_particles\": 30,\n",
    "    \"jet_features\": [\"type\", \"pt\", \"eta\", \"mass\"],\n",
    "}\n",
    "\n",
    "particle_data, jet_data = JetNet.getData(**data_args)"
   ]
  },
  {
   "cell_type": "markdown",
   "metadata": {},
   "source": [
    "Let's look at some of the data:"
   ]
  },
  {
   "cell_type": "code",
   "execution_count": 3,
   "metadata": {},
   "outputs": [
    {
     "name": "stdout",
     "output_type": "stream",
     "text": [
      "Particle features of the 10 highest pT particles in the first jet\n",
      "['etarel', 'phirel', 'ptrel']\n",
      "[[-0.00119465 -0.00868234  0.07526182]\n",
      " [ 0.040659   -0.01917223  0.04220497]\n",
      " [ 0.00320636  0.00189248  0.03439658]\n",
      " [-0.02547882  0.02908633  0.03265509]\n",
      " [ 0.04065903 -0.02917723  0.02732484]\n",
      " [-0.01184096 -0.06169375  0.02635964]\n",
      " [-0.00934097  0.06086848  0.02526115]\n",
      " [ 0.01342733 -0.06498301  0.02508761]\n",
      " [ 0.04017338 -0.02480143  0.02462937]\n",
      " [-0.03034277  0.03402254  0.02324519]]\n",
      "\n",
      "Jet features of first jet\n",
      "['type', 'pt', 'eta', 'mass']\n",
      "[0.00000000e+00 1.16691333e+03 4.74340975e-01 9.28546982e+01]\n"
     ]
    }
   ],
   "source": [
    "print(f\"Particle features of the 10 highest pT particles in the first jet\\n{data_args['particle_features']}\\n{particle_data[0, :10]}\")\n",
    "print(f\"\\nJet features of first jet\\n{data_args['jet_features']}\\n{jet_data[0]}\")"
   ]
  },
  {
   "cell_type": "markdown",
   "metadata": {},
   "source": [
    "We can also visualise these jets as images:"
   ]
  },
  {
   "cell_type": "code",
   "execution_count": 4,
   "metadata": {},
   "outputs": [
    {
     "data": {
      "image/png": "[encoded data removed]",
      "text/plain": [
       "<Figure size 2880x576 with 6 Axes>"
      ]
     },
     "metadata": {
      "needs_background": "light"
     },
     "output_type": "display_data"
    }
   ],
   "source": [
    "from jetnet.utils import to_image\n",
    "import matplotlib.pyplot as plt\n",
    "\n",
    "num_images = 5\n",
    "im_size = 25  # number of pixels in height and width\n",
    "maxR = 0.4  # max radius in (eta, phi) away from the jet axis\n",
    "\n",
    "cm = plt.cm.jet.copy()\n",
    "cm.set_under(color=\"white\")\n",
    "plt.rcParams.update({\"font.size\": 16})\n",
    "\n",
    "fig, axes = plt.subplots(\n",
    "    nrows=1,\n",
    "    ncols=num_images,\n",
    "    figsize=(40, 8),\n",
    "    gridspec_kw={\"wspace\": 0.25},\n",
    ")\n",
    "\n",
    "for i in range(num_images):\n",
    "    im = axes[i].imshow(\n",
    "        to_image(particle_data[i], im_size, maxR=maxR),\n",
    "        cmap=cm,\n",
    "        interpolation=\"nearest\",\n",
    "        vmin=1e-8,\n",
    "        extent=[-maxR, maxR, -maxR, maxR],\n",
    "        vmax=0.05,\n",
    "    )\n",
    "    axes[i].tick_params(which=\"both\", bottom=False, top=False, left=False, right=False)\n",
    "    axes[i].set_xlabel(\"$\\phi^{rel}$\")\n",
    "    axes[i].set_ylabel(\"$\\eta^{rel}$\")\n",
    "    axes[i].set_title(f\"Jet {i + 1}\")\n",
    "\n",
    "cbar = fig.colorbar(im, ax=axes.ravel().tolist(), fraction=0.01)\n",
    "cbar.set_label(\"$p_T^{rel}$\")\n"
   ]
  },
  {
   "cell_type": "markdown",
   "metadata": {},
   "source": [
    "## Dataset preparation\n",
    "\n",
    "To prepare the dataset for machine learning applications, we can use the `jetnet.datasets.JetNet` class itself, which inherits the `pytorch.data.utils.Dataset` class.\n",
    "\n",
    "We'll also use the class to normalise the features to have zero means and unit standard deviations, and transform the jet type feature to be one-hot-encoded."
   ]
  },
  {
   "cell_type": "code",
   "execution_count": 5,
   "metadata": {},
   "outputs": [],
   "source": [
    "from jetnet.datasets import JetNet\n",
    "from jetnet.datasets.normalisations import FeaturewiseLinear\n",
    "\n",
    "import numpy as np\n",
    "from sklearn.preprocessing import OneHotEncoder\n",
    "\n",
    "\n",
    "# function to one hot encode the jet type and leave the rest of the features as is\n",
    "def OneHotEncodeType(x: np.ndarray):\n",
    "    enc = OneHotEncoder(categories=[[0, 1]])\n",
    "    type_encoded = enc.fit_transform(x[..., 0].reshape(-1, 1)).toarray()\n",
    "    other_features = x[..., 1:].reshape(-1, 3)\n",
    "    return np.concatenate((type_encoded, other_features), axis=-1).reshape(*x.shape[:-1], -1)\n",
    "\n",
    "\n",
    "data_args = {\n",
    "    \"jet_type\": [\"g\", \"q\"],  # gluon and quark jets\n",
    "    \"data_dir\": \"../datasets/jetnet\",\n",
    "    # these are the default particle features, written here to be explicit\n",
    "    \"particle_features\": [\"etarel\", \"phirel\", \"ptrel\", \"mask\"],\n",
    "    \"num_particles\": 10,  # we retain only the 10 highest pT particles for this demo\n",
    "    \"jet_features\": [\"type\", \"pt\", \"eta\", \"mass\"],\n",
    "    # we don't want to normalise the 'mask' feature so we set that to False\n",
    "    \"particle_normalisation\": FeaturewiseLinear(normal=True, normalise_features=[True, True, True, False]),  \n",
    "    # we also don't want to normalise the jet 'type' feature\n",
    "    \"jet_normalisation\": FeaturewiseLinear(\n",
    "        normal=True, normalise_features=[False, True, True, True]\n",
    "    ),\n",
    "    # pass our function as a transform to be applied to the jet features\n",
    "    \"jet_transform\": OneHotEncodeType,\n",
    "}\n",
    "\n",
    "jets_train = JetNet(**data_args, split=\"train\")\n",
    "jets_valid = JetNet(**data_args, split=\"valid\")\n"
   ]
  },
  {
   "cell_type": "markdown",
   "metadata": {},
   "source": [
    "We can look at one of our datasets to confirm everything is as we expect:"
   ]
  },
  {
   "cell_type": "code",
   "execution_count": 6,
   "metadata": {},
   "outputs": [
    {
     "data": {
      "text/plain": [
       "Dataset JetNet\n",
       "    Number of datapoints: 243551\n",
       "    Data location: ../datasets/jetnet\n",
       "    Including ['g', 'q'] jets\n",
       "    Split into train data out of ['train', 'valid', 'test', 'all'] possible splits, with splitting fractions [0.7, 0.15, 0.15]\n",
       "    Particle features: ['etarel', 'phirel', 'ptrel', 'mask'], max 10 particles per jet\n",
       "    Jet features: ['type', 'pt', 'eta', 'mass']\n",
       "    Particle normalisation: Normalising features to zero mean and unit standard deviation, normalising features: [True, True, True, False]\n",
       "    Jet normalisation: Normalising features to zero mean and unit standard deviation, normalising features: [False, True, True, True]\n",
       "    Jet transform: <function OneHotEncodeType at 0x162233010>"
      ]
     },
     "execution_count": 6,
     "metadata": {},
     "output_type": "execute_result"
    }
   ],
   "source": [
    "jets_train"
   ]
  },
  {
   "cell_type": "markdown",
   "metadata": {},
   "source": [
    "And also directly at the data itself - note that the features have been normalised and the jet type has been one-hot-encoded):"
   ]
  },
  {
   "cell_type": "code",
   "execution_count": 7,
   "metadata": {},
   "outputs": [
    {
     "name": "stdout",
     "output_type": "stream",
     "text": [
      "Particle features (['etarel', 'phirel', 'ptrel', 'mask']):\n",
      "\ttensor([[-0.0244, -0.1820,  0.0086,  1.0000],\n",
      "        [ 0.8411, -0.4009, -0.3981,  1.0000],\n",
      "        [ 0.0666,  0.0387, -0.4941,  1.0000],\n",
      "        [-0.5266,  0.6064, -0.5155,  1.0000],\n",
      "        [ 0.8411, -0.6098, -0.5811,  1.0000],\n",
      "        [-0.2446, -1.2885, -0.5930,  1.0000],\n",
      "        [-0.1929,  1.2697, -0.6065,  1.0000],\n",
      "        [ 0.2779, -1.3571, -0.6086,  1.0000],\n",
      "        [ 0.8310, -0.5184, -0.6143,  1.0000],\n",
      "        [-0.6272,  0.7094, -0.6313,  1.0000]])\n",
      "\n",
      "Jet features (['type', 'pt', 'eta', 'mass']):\n",
      "\ttensor([1.0000, 0.0000, 0.5454, 0.6020, 0.3307])\n"
     ]
    }
   ],
   "source": [
    "particle_features, jet_features = jets_train[0]\n",
    "print(f\"Particle features ({data_args['particle_features']}):\\n\\t{particle_features}\")\n",
    "print(f\"\\nJet features ({data_args['jet_features']}):\\n\\t{jet_features}\")"
   ]
  },
  {
   "cell_type": "markdown",
   "metadata": {},
   "source": [
    "We can now feed this into a PyTorch DataLoader and start training!\n",
    "\n",
    "Next things you can try are:\n",
    " - Repeat this with the Top Quark Tagging dataset (`jetnet.datasets.TopTagging`)\n",
    " - Training an ML model (tutorial #2)"
   ]
  }
 ],
 "metadata": {
  "kernelspec": {
   "display_name": "Python 3.10.4 ('python310')",
   "language": "python",
   "name": "python3"
  },
  "language_info": {
   "codemirror_mode": {
    "name": "ipython",
    "version": 3
   },
   "file_extension": ".py",
   "mimetype": "text/x-python",
   "name": "python",
   "nbconvert_exporter": "python",
   "pygments_lexer": "ipython3",
   "version": "3.10.4"
  },
  "orig_nbformat": 4,
  "vscode": {
   "interpreter": {
    "hash": "31a7b1cb5f073f7a7d37b3db504c6954ce2b88e0f82e412b65ad0b5f2dd17394"
   }
  }
 },
 "nbformat": 4,
 "nbformat_minor": 2
}
